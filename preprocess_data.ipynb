{
 "cells": [
  {
   "cell_type": "code",
   "execution_count": null,
   "metadata": {},
   "outputs": [],
   "source": [
    "import pandas as pd\n",
    "\n",
    "# Preprocessing the data for Tableau integration\n",
    "file_path = 'future_crime_predictions.csv'\n",
    "data = pd.read_csv(file_path)\n",
    "\n",
    "# Filling missing values with 0 for numerical columns (assuming missing means no crimes reported)\n",
    "data_filled = data.fillna(0)\n",
    "\n",
    "# Ensuring all columns involved in the summation are numeric\n",
    "data_filled.iloc[:, 2:-1] = data_filled.iloc[:, 2:-1].apply(pd.to_numeric, errors='coerce').fillna(0)\n",
    "\n",
    "# Aggregating total crimes for each year and state\n",
    "data_filled['total_crimes'] = data_filled.iloc[:, 2:-1].sum(axis=1)\n",
    "\n",
    "# Restructuring data for easier analysis in Tableau\n",
    "# Melting the data to have a column for 'Crime Category' and 'Count'\n",
    "data_melted = pd.melt(\n",
    "    data_filled,\n",
    "    id_vars=['year', 'state_name', 'total_crimes'],\n",
    "    var_name='crime_category',\n",
    "    value_name='crime_count'\n",
    ")\n",
    "\n",
    "# Saving the preprocessed data to a new file for Tableau upload\n",
    "output_file_path = 'preprocessed_crime_data.csv'\n",
    "data_melted.to_csv(output_file_path, index=False)\n",
    "\n",
    "output_file_path"
   ]
  }
 ],
 "metadata": {
  "kernelspec": {
   "display_name": "environment",
   "language": "python",
   "name": "python3"
  },
  "language_info": {
   "codemirror_mode": {
    "name": "ipython",
    "version": 3
   },
   "file_extension": ".py",
   "mimetype": "text/x-python",
   "name": "python",
   "nbconvert_exporter": "python",
   "pygments_lexer": "ipython3",
   "version": "3.12.6"
  }
 },
 "nbformat": 4,
 "nbformat_minor": 2
}
