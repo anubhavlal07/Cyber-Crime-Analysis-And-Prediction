{
 "cells": [
  {
   "cell_type": "code",
   "execution_count": 1,
   "metadata": {},
   "outputs": [],
   "source": [
    "import pandas as pd\n",
    "\n",
    "# Load the dataset\n",
    "data = pd.read_csv('districtwise-cyber-crimes-2017-onwards.csv')\n"
   ]
  },
  {
   "cell_type": "code",
   "execution_count": null,
   "metadata": {},
   "outputs": [],
   "source": [
    "# Display basic information\n",
    "print(data.info())\n",
    "\n",
    "# Display summary statistics\n",
    "print(data.describe())\n"
   ]
  },
  {
   "cell_type": "code",
   "execution_count": null,
   "metadata": {},
   "outputs": [],
   "source": [
    "# Check for missing values\n",
    "print(data.isnull().sum())\n",
    "\n",
    "# Fill or drop missing values as necessary\n",
    "data.fillna(0, inplace=True)  # Example: filling missing values with 0\n"
   ]
  },
  {
   "cell_type": "code",
   "execution_count": null,
   "metadata": {},
   "outputs": [],
   "source": [
    "# Unique states and districts\n",
    "print(data['state_name'].unique())\n",
    "print(data['district_name'].unique())\n"
   ]
  },
  {
   "cell_type": "code",
   "execution_count": null,
   "metadata": {},
   "outputs": [],
   "source": [
    "import matplotlib.pyplot as plt\n",
    "\n",
    "# Group by year and sum total offences\n",
    "yearly_data = data.groupby('year')['total_offences_under_ip'].sum()\n",
    "\n",
    "plt.figure(figsize=(10,5))\n",
    "yearly_data.plot(kind='bar')\n",
    "plt.title('Total Cyber Crimes Over Years')\n",
    "plt.xlabel('Year')\n",
    "plt.ylabel('Total Offences')\n",
    "plt.show()\n"
   ]
  },
  {
   "cell_type": "code",
   "execution_count": null,
   "metadata": {},
   "outputs": [],
   "source": [
    "# Filter data for a specific year (e.g., 2019)\n",
    "data_2019 = data[data['year'] == 2019]\n",
    "\n",
    "plt.figure(figsize=(12,6))\n",
    "data_2019.groupby('state_name')['total_offences_under_ip'].sum().plot(kind='bar')\n",
    "plt.title('Cyber Crimes by State in 2019')\n",
    "plt.xlabel('State')\n",
    "plt.ylabel('Total Offences')\n",
    "plt.xticks(rotation=45)\n",
    "plt.show()\n"
   ]
  },
  {
   "cell_type": "code",
   "execution_count": null,
   "metadata": {},
   "outputs": [],
   "source": [
    "# Prepare data for time series analysis\n",
    "time_series_data = yearly_data.reset_index()\n",
    "time_series_data.columns = ['Year', 'Total_Offences']\n",
    "print(time_series_data.head())"
   ]
  },
  {
   "cell_type": "markdown",
   "metadata": {},
   "source": [
    "Linear Regression"
   ]
  },
  {
   "cell_type": "code",
   "execution_count": null,
   "metadata": {},
   "outputs": [],
   "source": [
    "from sklearn.linear_model import LinearRegression\n",
    "from sklearn.metrics import mean_squared_error,r2_score\n",
    "import numpy as np\n",
    "\n",
    "# Prepare features and target variable\n",
    "X = np.array(time_series_data['Year']).reshape(-1, 1)\n",
    "y = time_series_data['Total_Offences']\n",
    "\n",
    "# Fit model\n",
    "model = LinearRegression()\n",
    "model.fit(X, y)\n",
    "\n",
    "# Predicting next 8 years\n",
    "future_years = np.array([[2023], [2024], [2025], [2026], [2027], [2028], [2029], [2030]])\n",
    "predictions = model.predict(future_years)\n",
    "mse = mean_squared_error(y, model.predict(X))\n",
    "print(mse)\n",
    "r2 = r2_score(y, model.predict(X))\n",
    "print(r2)\n",
    "\n",
    "for year, prediction in zip(future_years.flatten(), predictions):\n",
    "    print(f'Predicted total offences in {year}: {prediction:.2f}')\n"
   ]
  },
  {
   "cell_type": "code",
   "execution_count": null,
   "metadata": {},
   "outputs": [],
   "source": [
    "import statsmodels.api as sm\n",
    "X = sm.add_constant(X)  # Add a constant term to the predictor\n",
    "Y = y \n",
    "model.coef_, model.intercept_   # Coefficients of the linear model\n",
    "rsquare_model = sm.OLS(Y,X).fit()  # R-squared value of the model\n",
    "rsquare_model.rsquared_adj"
   ]
  },
  {
   "cell_type": "code",
   "execution_count": null,
   "metadata": {},
   "outputs": [],
   "source": [
    "# Group by year and sum total offences\n",
    "yearly_data = data.groupby('year')['total_offences_under_ip'].sum().reset_index()\n",
    "\n",
    "# Create future_data using future_years and predictions\n",
    "future_data = pd.DataFrame({'year': future_years.flatten(), 'total_offences_under_ip': predictions})\n",
    "\n",
    "# Add future years data\n",
    "yearly_data = pd.concat([yearly_data, future_data]).reset_index(drop=True)\n",
    "print(yearly_data)\n"
   ]
  },
  {
   "cell_type": "code",
   "execution_count": null,
   "metadata": {},
   "outputs": [],
   "source": [
    "# Combine historical and predicted data for plotting\n",
    "combined_data = pd.concat([yearly_data, future_data])\n",
    "\n",
    "plt.figure(figsize=(12, 6))\n",
    "plt.plot(yearly_data['year'], yearly_data['total_offences_under_ip'], marker='o', label='Historical Data', color='blue')\n",
    "plt.plot(future_data['year'], future_data['total_offences_under_ip'], marker='o', linestyle='--', label='Predicted Data', color='orange')\n",
    "\n",
    "plt.title('Total Cyber Crimes Over Years with Predictions')\n",
    "plt.xlabel('Year')\n",
    "plt.ylabel('Total Offences')\n",
    "plt.xticks(np.arange(2017, 2031, 1))\n",
    "plt.legend()\n",
    "plt.grid()\n",
    "plt.show()\n"
   ]
  },
  {
   "cell_type": "code",
   "execution_count": null,
   "metadata": {},
   "outputs": [],
   "source": [
    "# Calculate year-over-year growth\n",
    "yearly_data['growth'] = yearly_data['total_offences_under_ip'].pct_change() * 100\n",
    "\n",
    "# Display the growth\n",
    "print(yearly_data[['year', 'total_offences_under_ip', 'growth']])"
   ]
  },
  {
   "cell_type": "code",
   "execution_count": null,
   "metadata": {},
   "outputs": [],
   "source": [
    "# Calculate percentage change\n",
    "combined_data['pct_change'] = combined_data['total_offences_under_ip'].pct_change() * 100\n",
    "\n",
    "# Assign colors based on percentage change\n",
    "colors = ['red' if pct > 0 else 'green' for pct in combined_data['pct_change'].fillna(0)]\n",
    "\n",
    "plt.figure(figsize=(12, 6))\n",
    "plt.bar(combined_data['year'], combined_data['total_offences_under_ip'], color=colors)\n",
    "plt.title('Total Cyber Crimes Over Years with Predictions')\n",
    "plt.xlabel('Year')\n",
    "plt.ylabel('Total Offences')\n",
    "plt.xticks(np.arange(2017, 2031, 1), rotation=45)\n",
    "plt.grid(axis='y')\n",
    "plt.show()"
   ]
  }
 ],
 "metadata": {
  "kernelspec": {
   "display_name": "environment",
   "language": "python",
   "name": "python3"
  },
  "language_info": {
   "codemirror_mode": {
    "name": "ipython",
    "version": 3
   },
   "file_extension": ".py",
   "mimetype": "text/x-python",
   "name": "python",
   "nbconvert_exporter": "python",
   "pygments_lexer": "ipython3",
   "version": "3.12.6"
  }
 },
 "nbformat": 4,
 "nbformat_minor": 2
}
