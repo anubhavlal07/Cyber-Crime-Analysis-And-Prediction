{
 "cells": [
  {
   "cell_type": "code",
   "execution_count": 1,
   "metadata": {},
   "outputs": [],
   "source": [
    "import pandas as pd\n",
    "import matplotlib.pyplot as plt\n",
    "# Load the dataset\n",
    "data = pd.read_csv('districtwise-cyber-crimes-2017-onwards.csv')\n"
   ]
  },
  {
   "cell_type": "code",
   "execution_count": null,
   "metadata": {},
   "outputs": [],
   "source": [
    "# Group by year and sum all crime categories\n",
    "data['Year'] = pd.to_datetime(data['year'], format='%Y').dt.year  # Ensure Year is in datetime format\n",
    "crime_trends = data.groupby('Year').sum()\n",
    "print(crime_trends)\n"
   ]
  },
  {
   "cell_type": "code",
   "execution_count": null,
   "metadata": {},
   "outputs": [],
   "source": [
    "specific_crimes = [\n",
    "    'tampering_computer_source_documents',\n",
    "    'ransom_ware',\n",
    "    'identity_theft',\n",
    "    'cheating_by_personation_by_using_computer_resource',\n",
    "    'violation_of_privacy',\n",
    "    'cyber_terrorism',\n",
    "    'data_theft',\n",
    "    'credit_card_debit_card_fraud'\n",
    "]\n",
    "\n",
    "# Calculate total for each specific crime\n",
    "crime_totals = data[specific_crimes].sum().sort_values(ascending=False)\n",
    "\n",
    "# Identify the top three specific crimes\n",
    "top_three_crimes = crime_trends[specific_crimes].sum().nlargest(3).index.tolist()\n",
    "print(top_three_crimes)"
   ]
  },
  {
   "cell_type": "markdown",
   "metadata": {},
   "source": [
    "top three specific crimes"
   ]
  },
  {
   "cell_type": "code",
   "execution_count": null,
   "metadata": {},
   "outputs": [],
   "source": [
    "\n",
    "# Plot the top three specific crimes\n",
    "crime_trends[top_three_crimes].plot(figsize=(10, 6), marker='o')\n",
    "\n",
    "plt.title(\"Top Three Cybercrime Trends Over Years\", fontsize=16)\n",
    "plt.xlabel(\"Year\", fontsize=14)\n",
    "plt.ylabel(\"Number of Cases\", fontsize=14)\n",
    "plt.legend(title=\"Crime Categories\")\n",
    "plt.grid(True)\n",
    "plt.show()"
   ]
  },
  {
   "cell_type": "markdown",
   "metadata": {},
   "source": [
    "top 5 districts with the highest and lowest cybercrime rates"
   ]
  },
  {
   "cell_type": "code",
   "execution_count": null,
   "metadata": {},
   "outputs": [],
   "source": [
    "# Calculate total cybercrimes for each district\n",
    "district_crime_totals = data.groupby('district_name')[specific_crimes].sum().sum(axis=1)\n",
    "\n",
    "# Identify the top 5 districts with the highest cybercrime rates\n",
    "top_5_districts = district_crime_totals.nlargest(5)\n",
    "print(\"Top 5 districts with highest cybercrime rates:\")\n",
    "print(top_5_districts)\n",
    "\n",
    "# Identify the top 5 districts with the lowest cybercrime rates\n",
    "\n",
    "bottom_5_districts = district_crime_totals.nsmallest(5)\n",
    "print(\"\\nTop 5 districts with lowest cybercrime rates:\")\n",
    "print(bottom_5_districts)"
   ]
  },
  {
   "cell_type": "code",
   "execution_count": null,
   "metadata": {},
   "outputs": [],
   "source": [
    "top_5_districts.plot(kind='bar', figsize=(10, 6))\n",
    "\n",
    "plt.title(\"Top 5 Districts with Highest Cybercrime Rates\", fontsize=16)\n",
    "plt.xlabel(\"Districts\", fontsize=14)\n",
    "plt.ylabel(\"Total Cybercrimes\", fontsize=14)\n",
    "plt.xticks(rotation=45)\n",
    "plt.grid(True)\n",
    "plt.show()"
   ]
  },
  {
   "cell_type": "markdown",
   "metadata": {},
   "source": [
    "top 5 states with the highest total crimes"
   ]
  },
  {
   "cell_type": "code",
   "execution_count": null,
   "metadata": {},
   "outputs": [],
   "source": [
    "# Group by state and calculate total crimes for each category\n",
    "state_crime_totals = data.groupby('state_name')[specific_crimes].sum()\n",
    "\n",
    "# Identify the top 5 states with the highest total crimes\n",
    "top_5_states = state_crime_totals.sum(axis=1).nlargest(5)\n",
    "print(\"Top 5 states with highest total crimes:\")\n",
    "print(top_5_states)\n",
    "\n",
    "# Visualize the crime distribution for a specific state (e.g., the state with the highest total crimes)\n",
    "top_state = top_5_states.index[0]\n",
    "state_crime_distribution = state_crime_totals.loc[top_state]\n",
    "\n",
    "state_crime_distribution.plot(kind='bar', figsize=(10, 6))\n",
    "\n",
    "plt.title(f\"Crime Distribution in {top_state}\", fontsize=16)\n",
    "plt.xlabel(\"Crime Categories\", fontsize=14)\n",
    "plt.ylabel(\"Total Crimes\", fontsize=14)\n",
    "plt.xticks(rotation=45)\n",
    "plt.grid(True)\n",
    "plt.show()"
   ]
  }
 ],
 "metadata": {
  "kernelspec": {
   "display_name": "environment",
   "language": "python",
   "name": "python3"
  },
  "language_info": {
   "codemirror_mode": {
    "name": "ipython",
    "version": 3
   },
   "file_extension": ".py",
   "mimetype": "text/x-python",
   "name": "python",
   "nbconvert_exporter": "python",
   "pygments_lexer": "ipython3",
   "version": "3.12.6"
  }
 },
 "nbformat": 4,
 "nbformat_minor": 2
}
