{
 "cells": [
  {
   "cell_type": "code",
   "execution_count": 2,
   "metadata": {},
   "outputs": [],
   "source": [
    "import pandas as pd\n",
    "\n",
    "# Load the dataset\n",
    "data = pd.read_csv('districtwise-cyber-crimes-2017-onwards.csv')\n"
   ]
  },
  {
   "cell_type": "code",
   "execution_count": null,
   "metadata": {},
   "outputs": [],
   "source": [
    "data.head()"
   ]
  },
  {
   "cell_type": "code",
   "execution_count": null,
   "metadata": {},
   "outputs": [],
   "source": [
    "# Create a DataFrame for all the crimes\n",
    "remaining_columns = [\n",
    "        'tampering_computer_source_documents', 'ransom_ware', 'offences_other_than_ransom_ware',\n",
    "        'dishonestly_recv_stolen_cmp_resrc_or_comm_device', 'identity_theft', \n",
    "        'cheating_by_personation_by_using_computer_resource', 'violation_of_privacy', \n",
    "        'cyber_terrorism', 'pub_or_trans_obscene_material_in_electronic_form', \n",
    "        'pub_or_trans_of_mtrl_cont_sxly_explct_act_in_elect_form', \n",
    "        'pub_or_trans_matrl_dpctng_chldrn_sxly_explct_elect_form',\n",
    "        'presrv_and_retention_of_info_by_intermediaries', 'other_sections_it_act',\n",
    "        'interception_or_monitoring_or_decryption_of_info', \n",
    "        'un_athryz_access_atmpt_access_prct_comp_sys', \n",
    "        'abetment_to_commit_offences', 'attempt_to_commit_offences',\n",
    "        'other_sections_of_it_act', 'abetment_of_suicide_online',\n",
    "        'cyber_stalking_bullying_of_women_children', 'data_theft',\n",
    "        'credit_card_debit_card_fraud', 'atms_fraud', \n",
    "        'online_banking_fraud', 'otp_frauds', 'other_frauds',\n",
    "        'cheating', 'forgery', 'defamation_morphing', \n",
    "        'fake_profile', 'currency_counterfeiting',\n",
    "        'stamps_counterfeiting', 'cyber_blackmailing_threatening',\n",
    "        'fake_news_on_social_media', 'other_offences'\n",
    "    ]\n",
    "all_crimes_df = data[remaining_columns]\n",
    "# Display the first few rows of the DataFrame\n",
    "all_crimes_df.head()"
   ]
  },
  {
   "cell_type": "code",
   "execution_count": null,
   "metadata": {},
   "outputs": [],
   "source": [
    "# Select the columns to correlate with\n",
    "columns_to_correlate = ['year', 'state_name', 'district_name', 'registration_circles']\n",
    "\n",
    "# Calculate the correlation\n",
    "correlation_results = {}\n",
    "for col in columns_to_correlate:\n",
    "    correlation_results[col] = all_crimes_df.corrwith(data[col].astype('category').cat.codes)\n",
    "\n",
    "# Print the correlation results\n",
    "for col, corr in correlation_results.items():\n",
    "    print(f\"Correlation with {col}:\")\n",
    "    print(corr)\n",
    "    print()"
   ]
  },
  {
   "cell_type": "code",
   "execution_count": null,
   "metadata": {},
   "outputs": [],
   "source": [
    "# Display basic information\n",
    "print(data.info())\n",
    "\n",
    "# Display summary statistics\n",
    "print(data.describe())"
   ]
  },
  {
   "cell_type": "code",
   "execution_count": null,
   "metadata": {},
   "outputs": [],
   "source": [
    "# Check for missing values\n",
    "print(data.isnull().sum())\n",
    "\n",
    "# Fill or drop missing values as necessary\n",
    "# data.fillna(0, inplace=True)  # Example: filling missing values with 0"
   ]
  },
  {
   "cell_type": "code",
   "execution_count": null,
   "metadata": {},
   "outputs": [],
   "source": [
    "# Unique states and districts\n",
    "print(len(data['state_name'].unique()))\n",
    "print(len(data['district_name'].unique()))"
   ]
  },
  {
   "cell_type": "code",
   "execution_count": null,
   "metadata": {},
   "outputs": [],
   "source": [
    "import matplotlib.pyplot as plt\n",
    "\n",
    "# Group by year and sum total offences\n",
    "yearly_data = data.groupby('year')['total_offences_under_ip'].sum()\n",
    "\n",
    "plt.figure(figsize=(10,5))\n",
    "yearly_data.plot(kind='bar')\n",
    "plt.title('Total Cyber Crimes Over Years')\n",
    "plt.xlabel('Year')\n",
    "plt.ylabel('Total Offences')\n",
    "plt.show()"
   ]
  },
  {
   "cell_type": "code",
   "execution_count": null,
   "metadata": {},
   "outputs": [],
   "source": [
    "# Filter data for a specific year (e.g., 2019)\n",
    "data_2019 = data[data['year'] == 2019]\n",
    "\n",
    "d = pd.DataFrame(data_2019.groupby('state_name')['total_offences_under_ip'].sum())\n",
    "d = d.sort_values(by='total_offences_under_ip', ascending=True)\n",
    "final_data = d[d['total_offences_under_ip'] > 5]\n",
    "\n",
    "plt.figure(figsize=(12,6))\n",
    "# final_data.plot(kind='xhbar')\n",
    "plt.barh(final_data.index, final_data['total_offences_under_ip'])\n",
    "plt.title('Cyber Crimes by State in 2019')\n",
    "plt.xlabel('State',rotation=90)\n",
    "plt.ylabel('Total Offences')\n",
    "#plt.xticks(rotation=45)\n",
    "plt.show()\n"
   ]
  },
  {
   "cell_type": "code",
   "execution_count": null,
   "metadata": {},
   "outputs": [],
   "source": [
    "\n",
    "# Prepare data for time series analysis\n",
    "time_series_data = yearly_data.reset_index()\n",
    "time_series_data.columns = ['Year', 'Total_Offences']\n",
    "print(time_series_data)\n",
    "time_series_data.head()\n",
    "import seaborn as sns   \n",
    "sns.scatterplot(x='Year', y='Total_Offences', data=time_series_data)"
   ]
  },
  {
   "cell_type": "markdown",
   "metadata": {},
   "source": [
    "Support Vector Regressor (SVR)"
   ]
  },
  {
   "cell_type": "code",
   "execution_count": null,
   "metadata": {},
   "outputs": [],
   "source": [
    "import numpy as np\n",
    "from sklearn.svm import SVR\n",
    "from sklearn.preprocessing import StandardScaler\n",
    "\n",
    "# Prepare the features (X) and the target variable (y)\n",
    "X = np.array(time_series_data['Year']).reshape(-1, 1)\n",
    "y = np.array(time_series_data['Total_Offences'])\n",
    "\n",
    "# Standardize the features\n",
    "scaler_X = StandardScaler()\n",
    "scaler_y = StandardScaler()\n",
    "\n",
    "X_scaled = scaler_X.fit_transform(X)\n",
    "y_scaled = scaler_y.fit_transform(y.reshape(-1, 1)).flatten()\n",
    "\n",
    "# Create and fit the SVR model\n",
    "model = SVR(kernel='rbf', C=100, gamma=0.1, epsilon=0.1)\n",
    "model.fit(X_scaled, y_scaled)\n",
    "\n",
    "# Predict the total offences for the next eight years (2022 to 2030)\n",
    "future_years = np.array([2023, 2024, 2025, 2026, 2027, 2028, 2029, 2030]).reshape(-1, 1)\n",
    "future_years_scaled = scaler_X.transform(future_years)\n",
    "predictions_scaled = model.predict(future_years_scaled)\n",
    "predictions = scaler_y.inverse_transform(predictions_scaled.reshape(-1, 1)).flatten()\n",
    "\n",
    "# Print the predictions\n",
    "for year, prediction in zip(future_years.flatten(), predictions):\n",
    "    print(f\"Predicted total offences in {year}: {prediction:.2f}\")"
   ]
  },
  {
   "cell_type": "code",
   "execution_count": null,
   "metadata": {},
   "outputs": [],
   "source": [
    "# Group by year and sum total offences\n",
    "grouped_data = data.groupby('year')['total_offences_under_ip'].sum().reset_index()\n",
    "\n",
    "# Create future data\n",
    "future_data = pd.DataFrame({\n",
    "\t'year': future_years.flatten(),\n",
    "\t'total_offences_under_ip': predictions\n",
    "})\n",
    "\n",
    "# Combine with future data\n",
    "combined_data = pd.concat([grouped_data, future_data]).reset_index(drop=True)\n",
    "\n",
    "# Print the combined data\n",
    "print(combined_data)"
   ]
  },
  {
   "cell_type": "code",
   "execution_count": null,
   "metadata": {},
   "outputs": [],
   "source": [
    "# Convert yearly_data to a DataFrame\n",
    "yearly_data_df = yearly_data.reset_index()\n",
    "yearly_data_df.columns = ['year', 'total_offences_under_ip']\n",
    "\n",
    "# Combine historical and predicted data for plotting\n",
    "combined_data = pd.concat([yearly_data_df, future_data])\n",
    "\n",
    "plt.figure(figsize=(12, 6))\n",
    "plt.plot(yearly_data_df['year'], yearly_data_df['total_offences_under_ip'], marker='o', label='Historical Data', color='blue')\n",
    "plt.plot(future_data['year'], future_data['total_offences_under_ip'], marker='o', linestyle='--', label='Predicted Data', color='orange')\n",
    "\n",
    "plt.title('Total Cyber Crimes Over Years with Predictions')\n",
    "plt.xlabel('Year')\n",
    "plt.ylabel('Total Offences')\n",
    "plt.xticks(np.arange(2017, 2031, 1))\n",
    "plt.legend()\n",
    "plt.grid()\n",
    "plt.show()"
   ]
  },
  {
   "cell_type": "code",
   "execution_count": null,
   "metadata": {},
   "outputs": [],
   "source": [
    "# Calculate the percentage change year over year\n",
    "combined_data['pct_change'] = combined_data['total_offences_under_ip'].pct_change() * 100\n",
    "\n",
    "# Display the data with percentage change\n",
    "print(combined_data)"
   ]
  },
  {
   "cell_type": "code",
   "execution_count": null,
   "metadata": {},
   "outputs": [],
   "source": [
    "colors = ['red' if pct > 0 else 'green' for pct in combined_data['pct_change'].fillna(0)]\n",
    "\n",
    "plt.figure(figsize=(12, 6))\n",
    "plt.bar(combined_data['year'], combined_data['total_offences_under_ip'], color=colors)\n",
    "plt.title('Total Cyber Crimes Over Years with Predictions')\n",
    "plt.xlabel('Year')\n",
    "plt.ylabel('Total Offences')\n",
    "plt.xticks(np.arange(2017, 2031, 1), rotation=45)\n",
    "plt.grid(axis='y')\n",
    "plt.show()"
   ]
  }
 ],
 "metadata": {
  "kernelspec": {
   "display_name": "environment",
   "language": "python",
   "name": "python3"
  },
  "language_info": {
   "codemirror_mode": {
    "name": "ipython",
    "version": 3
   },
   "file_extension": ".py",
   "mimetype": "text/x-python",
   "name": "python",
   "nbconvert_exporter": "python",
   "pygments_lexer": "ipython3",
   "version": "3.12.6"
  }
 },
 "nbformat": 4,
 "nbformat_minor": 2
}
